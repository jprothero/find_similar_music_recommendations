{
 "cells": [
  {
   "cell_type": "code",
   "execution_count": 1,
   "id": "7b63a424",
   "metadata": {},
   "outputs": [],
   "source": [
    "import os\n",
    "from pathlib import Path\n",
    "from glob import glob\n",
    "from tqdm.auto import tqdm\n",
    "import json\n",
    "from joblib import Parallel, parallel_backend, delayed\n",
    "import numpy as np\n",
    "from collections import defaultdict\n",
    "\n",
    "path = Path(os.getenv(\"SPOTIFY_DATASET\"))\n",
    "\n",
    "slices = sorted(glob(str(path/\"data\"/\"*.json\")), key=lambda x: int(x.split(\"mpd.slice.\")[-1].split(\"-\")[0]))"
   ]
  },
  {
   "cell_type": "code",
   "execution_count": 2,
   "id": "0d200d33",
   "metadata": {},
   "outputs": [
    {
     "data": {
      "application/vnd.jupyter.widget-view+json": {
       "model_id": "c47240d6ec8c48f5a401e4ecebac40ef",
       "version_major": 2,
       "version_minor": 0
      },
      "text/plain": [
       "  0%|          | 0/1000 [00:00<?, ?it/s]"
      ]
     },
     "metadata": {},
     "output_type": "display_data"
    }
   ],
   "source": [
    "# TODO: could use defaultdict instead to save some lines of code\n",
    "\n",
    "track2idx = dict()\n",
    "album2idx = dict()\n",
    "artist2idx = dict()\n",
    "\n",
    "playlist_indices = []\n",
    "track_indices = []\n",
    "album_indices = []\n",
    "artist_indices = []\n",
    "\n",
    "playlist_idx = -1\n",
    "track_idx = 0\n",
    "album_idx = 0\n",
    "artist_idx = 0\n",
    "for slc in tqdm(slices):\n",
    "    data = json.load(open(slc, \"rb\"))\n",
    "    for playlist in data[\"playlists\"]:\n",
    "        playlist_idx += 1\n",
    "        \n",
    "        for track_info in playlist[\"tracks\"]:\n",
    "            track = f\"{track_info['track_name']} ({track_info['track_uri']})\"\n",
    "            album = f\"{track_info['album_name']} ({track_info['album_uri']})\"\n",
    "            artist = f\"{track_info['artist_name']} ({track_info['artist_uri']})\"\n",
    "\n",
    "            if track not in track2idx:\n",
    "                track2idx[track] = track_idx\n",
    "                track_idx += 1\n",
    "                \n",
    "            if album not in album2idx:\n",
    "                album2idx[album] = album_idx\n",
    "                album_idx += 1\n",
    "                \n",
    "            if artist not in artist2idx:\n",
    "                artist2idx[artist] = artist_idx\n",
    "                artist_idx += 1\n",
    "                \n",
    "            playlist_indices.append(playlist_idx)\n",
    "            track_indices.append(track2idx[track])\n",
    "            album_indices.append(album2idx[album])\n",
    "            artist_indices.append(artist2idx[artist])"
   ]
  },
  {
   "cell_type": "code",
   "execution_count": 3,
   "id": "f6a4305a",
   "metadata": {},
   "outputs": [
    {
     "data": {
      "text/plain": [
       "(2262292, 734684, 295860)"
      ]
     },
     "execution_count": 3,
     "metadata": {},
     "output_type": "execute_result"
    }
   ],
   "source": [
    "assert len(track2idx) >= len(album2idx)\n",
    "assert len(album2idx) >= len(artist2idx)\n",
    "\n",
    "len(track2idx), len(album2idx), len(artist2idx)"
   ]
  },
  {
   "cell_type": "code",
   "execution_count": null,
   "id": "d55bebc9",
   "metadata": {},
   "outputs": [],
   "source": [
    "# TODO: optional additional step, re-sort categories alphabetically"
   ]
  },
  {
   "cell_type": "code",
   "execution_count": 6,
   "id": "dc74665a",
   "metadata": {},
   "outputs": [],
   "source": [
    "import pickle as p\n",
    "\n",
    "p.dump({\n",
    "    \"track2idx\": track2idx,\n",
    "    \"album2idx\": album2idx,\n",
    "    \"artist2idx\": artist2idx,\n",
    "    \n",
    "    \"playlist_indices\": playlist_indices,\n",
    "    \"track_indices\": track_indices,\n",
    "    \"album_indices\": album_indices,\n",
    "    \"artist_indices\": artist_indices,\n",
    "}, open(\"../cached_data/spotify_preprocessed.p\", \"wb\"))"
   ]
  }
 ],
 "metadata": {
  "kernelspec": {
   "display_name": "Python 3 (ipykernel)",
   "language": "python",
   "name": "python3"
  },
  "language_info": {
   "codemirror_mode": {
    "name": "ipython",
    "version": 3
   },
   "file_extension": ".py",
   "mimetype": "text/x-python",
   "name": "python",
   "nbconvert_exporter": "python",
   "pygments_lexer": "ipython3",
   "version": "3.10.18"
  }
 },
 "nbformat": 4,
 "nbformat_minor": 5
}
