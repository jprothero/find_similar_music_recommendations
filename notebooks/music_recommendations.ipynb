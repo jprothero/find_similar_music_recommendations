{
 "cells": [
  {
   "cell_type": "code",
   "execution_count": 1,
   "id": "dd7b92d1",
   "metadata": {},
   "outputs": [],
   "source": [
    "%load_ext autoreload\n",
    "%autoreload 2"
   ]
  },
  {
   "cell_type": "code",
   "execution_count": 2,
   "id": "eeacb8f8",
   "metadata": {},
   "outputs": [],
   "source": [
    "import os\n",
    "os.chdir(\"../\")"
   ]
  },
  {
   "cell_type": "code",
   "execution_count": 72,
   "id": "df162b02",
   "metadata": {},
   "outputs": [],
   "source": [
    "import pickle as p\n",
    "\n",
    "from ease_recommender import *\n",
    "from npmi_recommender import *\n",
    "\n",
    "from scipy.optimize import minimize_scalar, minimize"
   ]
  },
  {
   "cell_type": "code",
   "execution_count": 4,
   "id": "da9f3309",
   "metadata": {},
   "outputs": [],
   "source": [
    "def create_mat(row, col, bool_to_int=True):\n",
    "    # bool_to_int won't count duplicates in the same row, creates a different weighting basically\n",
    "    if bool_to_int:\n",
    "        data = np.ones_like(row, dtype=bool)\n",
    "        return csr_matrix((data, (row, col))).astype(np.int64)\n",
    "    else:\n",
    "        data = np.ones_like(row, dtype=np.int64)\n",
    "        return csr_matrix((data, (row, col)))\n",
    "\n",
    "def check_if_all_terms_in_str(q, terms):\n",
    "    for term in terms:\n",
    "        if term not in q:\n",
    "            return False\n",
    "\n",
    "    return True\n",
    "\n",
    "def get_cat2idx(category_type, D):\n",
    "    if category_type == \"track\":\n",
    "        return D[\"track2idx\"]\n",
    "    elif category_type == \"album\":\n",
    "        return D[\"album2idx\"]\n",
    "    elif category_type == \"artist\":\n",
    "        return D[\"artist2idx\"]\n",
    "    else:\n",
    "        raise NotImplementedError\n",
    "\n",
    "def find_match_using_terms(terms, cat2idx):\n",
    "    matches = []\n",
    "    for name in cat2idx.keys():\n",
    "        if check_if_all_terms_in_str(name, terms):\n",
    "            matches.append(name)\n",
    "\n",
    "    if len(matches) > 1:\n",
    "        raise Exception(\"Multiple matches found, filter down to a single match\", matches)\n",
    "\n",
    "    return matches[0]"
   ]
  },
  {
   "cell_type": "code",
   "execution_count": 82,
   "id": "8aaf1ddc",
   "metadata": {},
   "outputs": [],
   "source": [
    "def a_to_b_error_metric(mat, a, b, lambda_, verbose=True):\n",
    "    similarity_scores_a = calculate_ease_for_item_cg(artist_mat, a, lambda_)\n",
    "    ranking_a = np.argsort(-similarity_scores_a)\n",
    "    \n",
    "    similarity_scores_b = calculate_ease_for_item_cg(artist_mat, b, lambda_)\n",
    "    ranking_b = np.argsort(-similarity_scores_b)\n",
    "    \n",
    "    # lower is better\n",
    "    error = (ranking_a.tolist().index(b) + ranking_b.tolist().index(a))/2\n",
    "    \n",
    "    if verbose:\n",
    "        print(\"lambda_:\", lambda_)\n",
    "        print(\"error:\", error)\n",
    "    \n",
    "    return error"
   ]
  },
  {
   "cell_type": "code",
   "execution_count": 83,
   "id": "6efcdcdd",
   "metadata": {},
   "outputs": [],
   "source": [
    "def optimize_lambda_using_a_to_b_matching(mat, a, b, fast_approximation=True):\n",
    "    lambda_ = 1000000\n",
    "    \n",
    "    prev_error = np.inf\n",
    "    while True:\n",
    "        error = a_to_b_error_metric(mat, a, b, lambda_)\n",
    "        \n",
    "        if error >= prev_error:\n",
    "            break\n",
    "        else:\n",
    "            lambda_ /= 10\n",
    "            prev_error = error\n",
    "            \n",
    "    if fast_approximation:\n",
    "        return round(lambda_*10)\n",
    "    else:\n",
    "        res = minimize_scalar(lambda lambda_: a_to_b_error_metric(mat, a, b, lambda_), \n",
    "                              bracket=(lambda_, lambda_*10, lambda_*100))\n",
    "\n",
    "        return round(res.x)"
   ]
  },
  {
   "cell_type": "code",
   "execution_count": 93,
   "id": "7eac916c",
   "metadata": {},
   "outputs": [],
   "source": [
    "def a_to_b_error_metric_npmi(mat, a, b, temp, verbose=True):\n",
    "    similarity_scores_a = npmi_batch(artist_mat, a, temp)\n",
    "    ranking_a = np.argsort(-similarity_scores_a)\n",
    "    \n",
    "    similarity_scores_b = npmi_batch(artist_mat, b, temp)\n",
    "    ranking_b = np.argsort(-similarity_scores_b)\n",
    "    \n",
    "    # lower is better\n",
    "    error = (ranking_a.tolist().index(b) + ranking_b.tolist().index(a))/2\n",
    "    \n",
    "    if verbose:\n",
    "        print(\"temp:\", temp)\n",
    "        print(\"error:\", error)\n",
    "    \n",
    "    return error"
   ]
  },
  {
   "cell_type": "code",
   "execution_count": 8,
   "id": "060e66e1",
   "metadata": {},
   "outputs": [
    {
     "name": "stdout",
     "output_type": "stream",
     "text": [
      "loading cache data...\n",
      "building csr matrices...\n",
      "done\n"
     ]
    }
   ],
   "source": [
    "print(\"loading cache data...\")\n",
    "D = p.load(open(\"cached_data/spotify_preprocessed.p\", \"rb\"))\n",
    "\n",
    "print(\"building csr matrices...\")\n",
    "# track_mat = create_mat(D[\"playlist_indices\"], D[\"track_indices\"])\n",
    "# album_mat = create_mat(D[\"playlist_indices\"], D[\"album_indices\"])\n",
    "artist_mat = create_mat(D[\"playlist_indices\"], D[\"artist_indices\"])\n",
    "\n",
    "print(\"done\")"
   ]
  },
  {
   "cell_type": "code",
   "execution_count": 9,
   "id": "9891b3ec",
   "metadata": {},
   "outputs": [],
   "source": [
    "cat2idx = get_cat2idx(\"artist\", D)\n",
    "idx2cat = {v:k for k, v in cat2idx.items()}"
   ]
  },
  {
   "cell_type": "code",
   "execution_count": 31,
   "id": "7bb1bc0b",
   "metadata": {},
   "outputs": [],
   "source": [
    "# use two items that you believe are similar to optimize the value of lambda_\n",
    "\n",
    "# a = cat2idx[find_match_using_terms([\"sgeir\", \"7xUZ4069zcyBM4Bn10NQ1c\"], cat2idx)]\n",
    "a = cat2idx[find_match_using_terms([\"Fleet Foxes\"], cat2idx)]\n",
    "\n",
    "# b = cat2idx[find_match_using_terms([\"Fleet Foxes\"], cat2idx)]\n",
    "b = cat2idx[find_match_using_terms([\"Bon Iver\", \"4LEiUm1SRbFMgfqnQTwUbQ\"], cat2idx)]\n",
    "# b = cat2idx[find_match_using_terms([\"SOHN\"], cat2idx)]"
   ]
  },
  {
   "cell_type": "code",
   "execution_count": 59,
   "id": "51ef8a65",
   "metadata": {},
   "outputs": [
    {
     "name": "stdout",
     "output_type": "stream",
     "text": [
      "lambda_: 1000000\n",
      "error: 9.5\n",
      "lambda_: 100000.0\n",
      "error: 4.5\n",
      "lambda_: 10000.0\n",
      "error: 3.0\n",
      "lambda_: 1000.0\n",
      "error: 11.5\n",
      "lambda_: 7639.320225002102\n",
      "error: 3.0\n",
      "lambda_: 12360.679774997896\n",
      "error: 3.0\n",
      "lambda_: 15278.640450004204\n",
      "error: 4.0\n",
      "lambda_: 10000.0\n",
      "error: 3.0\n",
      "lambda_: 9098.300562505257\n",
      "error: 3.5\n",
      "lambda_: 10901.699437494743\n",
      "error: 3.0\n",
      "lambda_: 11458.980337503153\n",
      "error: 3.0\n"
     ]
    },
    {
     "ename": "KeyboardInterrupt",
     "evalue": "",
     "output_type": "error",
     "traceback": [
      "\u001b[1;31m---------------------------------------------------------------------------\u001b[0m",
      "\u001b[1;31mKeyboardInterrupt\u001b[0m                         Traceback (most recent call last)",
      "Cell \u001b[1;32mIn[59], line 1\u001b[0m\n\u001b[1;32m----> 1\u001b[0m lambda_ \u001b[38;5;241m=\u001b[39m \u001b[43moptimize_lambda_using_a_to_b_matching\u001b[49m\u001b[43m(\u001b[49m\u001b[43martist_mat\u001b[49m\u001b[43m,\u001b[49m\u001b[43m \u001b[49m\u001b[43ma\u001b[49m\u001b[43m,\u001b[49m\u001b[43m \u001b[49m\u001b[43mb\u001b[49m\u001b[43m,\u001b[49m\u001b[43m \u001b[49m\u001b[38;5;28;43;01mFalse\u001b[39;49;00m\u001b[43m)\u001b[49m\n",
      "Cell \u001b[1;32mIn[57], line 19\u001b[0m, in \u001b[0;36moptimize_lambda_using_a_to_b_matching\u001b[1;34m(mat, a, b, fast_approximation)\u001b[0m\n\u001b[0;32m     17\u001b[0m     \u001b[38;5;28;01mreturn\u001b[39;00m \u001b[38;5;28mround\u001b[39m(lambda_\u001b[38;5;241m*\u001b[39m\u001b[38;5;241m10\u001b[39m)\n\u001b[0;32m     18\u001b[0m \u001b[38;5;28;01melse\u001b[39;00m:\n\u001b[1;32m---> 19\u001b[0m     res \u001b[38;5;241m=\u001b[39m \u001b[43mminimize_scalar\u001b[49m\u001b[43m(\u001b[49m\u001b[38;5;28;43;01mlambda\u001b[39;49;00m\u001b[43m \u001b[49m\u001b[43mlambda_\u001b[49m\u001b[43m:\u001b[49m\u001b[43m \u001b[49m\u001b[43ma_to_b_error_metric\u001b[49m\u001b[43m(\u001b[49m\u001b[43mmat\u001b[49m\u001b[43m,\u001b[49m\u001b[43m \u001b[49m\u001b[43ma\u001b[49m\u001b[43m,\u001b[49m\u001b[43m \u001b[49m\u001b[43mb\u001b[49m\u001b[43m,\u001b[49m\u001b[43m \u001b[49m\u001b[43mlambda_\u001b[49m\u001b[43m)\u001b[49m\u001b[43m,\u001b[49m\u001b[43m \u001b[49m\u001b[43mbounds\u001b[49m\u001b[38;5;241;43m=\u001b[39;49m\u001b[43m(\u001b[49m\u001b[38;5;241;43m1e-14\u001b[39;49m\u001b[43m,\u001b[49m\u001b[43m \u001b[49m\u001b[43mlambda_\u001b[49m\u001b[38;5;241;43m*\u001b[39;49m\u001b[38;5;241;43m10\u001b[39;49m\u001b[38;5;241;43m*\u001b[39;49m\u001b[38;5;241;43m2\u001b[39;49m\u001b[43m)\u001b[49m\u001b[43m)\u001b[49m\n\u001b[0;32m     21\u001b[0m     \u001b[38;5;28;01mreturn\u001b[39;00m \u001b[38;5;28mround\u001b[39m(res\u001b[38;5;241m.\u001b[39mx)\n",
      "File \u001b[1;32m~\\miniconda3\\envs\\main\\lib\\site-packages\\scipy\\optimize\\_minimize.py:981\u001b[0m, in \u001b[0;36mminimize_scalar\u001b[1;34m(fun, bracket, bounds, args, method, tol, options)\u001b[0m\n\u001b[0;32m    978\u001b[0m     \u001b[38;5;28;01mif\u001b[39;00m bounds \u001b[38;5;129;01mis\u001b[39;00m \u001b[38;5;28;01mNone\u001b[39;00m:\n\u001b[0;32m    979\u001b[0m         \u001b[38;5;28;01mraise\u001b[39;00m \u001b[38;5;167;01mValueError\u001b[39;00m(\u001b[38;5;124m'\u001b[39m\u001b[38;5;124mThe `bounds` parameter is mandatory for \u001b[39m\u001b[38;5;124m'\u001b[39m\n\u001b[0;32m    980\u001b[0m                          \u001b[38;5;124m'\u001b[39m\u001b[38;5;124mmethod `bounded`.\u001b[39m\u001b[38;5;124m'\u001b[39m)\n\u001b[1;32m--> 981\u001b[0m     res \u001b[38;5;241m=\u001b[39m _minimize_scalar_bounded(fun, bounds, args, \u001b[38;5;241m*\u001b[39m\u001b[38;5;241m*\u001b[39moptions)\n\u001b[0;32m    982\u001b[0m \u001b[38;5;28;01melif\u001b[39;00m meth \u001b[38;5;241m==\u001b[39m \u001b[38;5;124m'\u001b[39m\u001b[38;5;124mgolden\u001b[39m\u001b[38;5;124m'\u001b[39m:\n\u001b[0;32m    983\u001b[0m     res \u001b[38;5;241m=\u001b[39m _recover_from_bracket_error(_minimize_scalar_golden,\n\u001b[0;32m    984\u001b[0m                                       fun, bracket, args, \u001b[38;5;241m*\u001b[39m\u001b[38;5;241m*\u001b[39moptions)\n",
      "File \u001b[1;32m~\\miniconda3\\envs\\main\\lib\\site-packages\\scipy\\optimize\\_optimize.py:2351\u001b[0m, in \u001b[0;36m_minimize_scalar_bounded\u001b[1;34m(func, bounds, args, xatol, maxiter, disp, **unknown_options)\u001b[0m\n\u001b[0;32m   2349\u001b[0m si \u001b[38;5;241m=\u001b[39m np\u001b[38;5;241m.\u001b[39msign(rat) \u001b[38;5;241m+\u001b[39m (rat \u001b[38;5;241m==\u001b[39m \u001b[38;5;241m0\u001b[39m)\n\u001b[0;32m   2350\u001b[0m x \u001b[38;5;241m=\u001b[39m xf \u001b[38;5;241m+\u001b[39m si \u001b[38;5;241m*\u001b[39m np\u001b[38;5;241m.\u001b[39mmaximum(np\u001b[38;5;241m.\u001b[39mabs(rat), tol1)\n\u001b[1;32m-> 2351\u001b[0m fu \u001b[38;5;241m=\u001b[39m \u001b[43mfunc\u001b[49m\u001b[43m(\u001b[49m\u001b[43mx\u001b[49m\u001b[43m,\u001b[49m\u001b[43m \u001b[49m\u001b[38;5;241;43m*\u001b[39;49m\u001b[43margs\u001b[49m\u001b[43m)\u001b[49m\n\u001b[0;32m   2352\u001b[0m num \u001b[38;5;241m+\u001b[39m\u001b[38;5;241m=\u001b[39m \u001b[38;5;241m1\u001b[39m\n\u001b[0;32m   2353\u001b[0m fmin_data \u001b[38;5;241m=\u001b[39m (num, x, fu)\n",
      "Cell \u001b[1;32mIn[57], line 19\u001b[0m, in \u001b[0;36moptimize_lambda_using_a_to_b_matching.<locals>.<lambda>\u001b[1;34m(lambda_)\u001b[0m\n\u001b[0;32m     17\u001b[0m     \u001b[38;5;28;01mreturn\u001b[39;00m \u001b[38;5;28mround\u001b[39m(lambda_\u001b[38;5;241m*\u001b[39m\u001b[38;5;241m10\u001b[39m)\n\u001b[0;32m     18\u001b[0m \u001b[38;5;28;01melse\u001b[39;00m:\n\u001b[1;32m---> 19\u001b[0m     res \u001b[38;5;241m=\u001b[39m minimize_scalar(\u001b[38;5;28;01mlambda\u001b[39;00m lambda_: \u001b[43ma_to_b_error_metric\u001b[49m\u001b[43m(\u001b[49m\u001b[43mmat\u001b[49m\u001b[43m,\u001b[49m\u001b[43m \u001b[49m\u001b[43ma\u001b[49m\u001b[43m,\u001b[49m\u001b[43m \u001b[49m\u001b[43mb\u001b[49m\u001b[43m,\u001b[49m\u001b[43m \u001b[49m\u001b[43mlambda_\u001b[49m\u001b[43m)\u001b[49m, bounds\u001b[38;5;241m=\u001b[39m(\u001b[38;5;241m1e-14\u001b[39m, lambda_\u001b[38;5;241m*\u001b[39m\u001b[38;5;241m10\u001b[39m\u001b[38;5;241m*\u001b[39m\u001b[38;5;241m2\u001b[39m))\n\u001b[0;32m     21\u001b[0m     \u001b[38;5;28;01mreturn\u001b[39;00m \u001b[38;5;28mround\u001b[39m(res\u001b[38;5;241m.\u001b[39mx)\n",
      "Cell \u001b[1;32mIn[5], line 2\u001b[0m, in \u001b[0;36ma_to_b_error_metric\u001b[1;34m(mat, a, b, lambda_, verbose)\u001b[0m\n\u001b[0;32m      1\u001b[0m \u001b[38;5;28;01mdef\u001b[39;00m\u001b[38;5;250m \u001b[39m\u001b[38;5;21ma_to_b_error_metric\u001b[39m(mat, a, b, lambda_, verbose\u001b[38;5;241m=\u001b[39m\u001b[38;5;28;01mTrue\u001b[39;00m):\n\u001b[1;32m----> 2\u001b[0m     similarity_scores_a \u001b[38;5;241m=\u001b[39m \u001b[43mcalculate_ease_for_item_cg\u001b[49m\u001b[43m(\u001b[49m\u001b[43martist_mat\u001b[49m\u001b[43m,\u001b[49m\u001b[43m \u001b[49m\u001b[43ma\u001b[49m\u001b[43m,\u001b[49m\u001b[43m \u001b[49m\u001b[43mlambda_\u001b[49m\u001b[43m)\u001b[49m\n\u001b[0;32m      3\u001b[0m     ranking_a \u001b[38;5;241m=\u001b[39m np\u001b[38;5;241m.\u001b[39margsort(\u001b[38;5;241m-\u001b[39msimilarity_scores_a)\n\u001b[0;32m      5\u001b[0m     similarity_scores_b \u001b[38;5;241m=\u001b[39m calculate_ease_for_item_cg(artist_mat, b, lambda_)\n",
      "File \u001b[1;32m~\\Projects\\find_similar_music_recommendations\\ease_recommender.py:34\u001b[0m, in \u001b[0;36mcalculate_ease_for_item_cg\u001b[1;34m(X, item_id, lambda_)\u001b[0m\n\u001b[0;32m     30\u001b[0m A \u001b[38;5;241m=\u001b[39m LinearOperator(shape\u001b[38;5;241m=\u001b[39m(n_items, n_items), matvec\u001b[38;5;241m=\u001b[39mmatvec_operator)\n\u001b[0;32m     32\u001b[0m \u001b[38;5;66;03m# 3. Solve the linear system A * x = b using the operator.\u001b[39;00m\n\u001b[0;32m     33\u001b[0m \u001b[38;5;66;03m# The solver 'A' is now just a function, not a giant matrix.\u001b[39;00m\n\u001b[1;32m---> 34\u001b[0m similarities, _ \u001b[38;5;241m=\u001b[39m \u001b[43mcg\u001b[49m\u001b[43m(\u001b[49m\u001b[43mA\u001b[49m\u001b[43m,\u001b[49m\u001b[43m \u001b[49m\u001b[43mtarget_col\u001b[49m\u001b[43m,\u001b[49m\u001b[43m \u001b[49m\u001b[43mmaxiter\u001b[49m\u001b[38;5;241;43m=\u001b[39;49m\u001b[38;5;241;43m20\u001b[39;49m\u001b[43m)\u001b[49m\n\u001b[0;32m     36\u001b[0m \u001b[38;5;66;03m# 4. Enforce the B_jj = 0 constraint in the final result\u001b[39;00m\n\u001b[0;32m     37\u001b[0m similarities[item_id] \u001b[38;5;241m=\u001b[39m \u001b[38;5;241m0\u001b[39m\n",
      "File \u001b[1;32m~\\miniconda3\\envs\\main\\lib\\site-packages\\scipy\\sparse\\linalg\\_isolve\\iterative.py:411\u001b[0m, in \u001b[0;36mcg\u001b[1;34m(A, b, x0, rtol, atol, maxiter, M, callback)\u001b[0m\n\u001b[0;32m    408\u001b[0m     p \u001b[38;5;241m=\u001b[39m np\u001b[38;5;241m.\u001b[39mempty_like(r)\n\u001b[0;32m    409\u001b[0m     p[:] \u001b[38;5;241m=\u001b[39m z[:]\n\u001b[1;32m--> 411\u001b[0m q \u001b[38;5;241m=\u001b[39m \u001b[43mmatvec\u001b[49m\u001b[43m(\u001b[49m\u001b[43mp\u001b[49m\u001b[43m)\u001b[49m\n\u001b[0;32m    412\u001b[0m alpha \u001b[38;5;241m=\u001b[39m rho_cur \u001b[38;5;241m/\u001b[39m dotprod(p, q)\n\u001b[0;32m    413\u001b[0m x \u001b[38;5;241m+\u001b[39m\u001b[38;5;241m=\u001b[39m alpha\u001b[38;5;241m*\u001b[39mp\n",
      "File \u001b[1;32m~\\miniconda3\\envs\\main\\lib\\site-packages\\scipy\\sparse\\linalg\\_interface.py:258\u001b[0m, in \u001b[0;36mLinearOperator.matvec\u001b[1;34m(self, x)\u001b[0m\n\u001b[0;32m    255\u001b[0m \u001b[38;5;28;01mif\u001b[39;00m x\u001b[38;5;241m.\u001b[39mshape \u001b[38;5;241m!=\u001b[39m (N,) \u001b[38;5;129;01mand\u001b[39;00m x\u001b[38;5;241m.\u001b[39mshape \u001b[38;5;241m!=\u001b[39m (N,\u001b[38;5;241m1\u001b[39m):\n\u001b[0;32m    256\u001b[0m     \u001b[38;5;28;01mraise\u001b[39;00m \u001b[38;5;167;01mValueError\u001b[39;00m(\u001b[38;5;124m'\u001b[39m\u001b[38;5;124mdimension mismatch\u001b[39m\u001b[38;5;124m'\u001b[39m)\n\u001b[1;32m--> 258\u001b[0m y \u001b[38;5;241m=\u001b[39m \u001b[38;5;28;43mself\u001b[39;49m\u001b[38;5;241;43m.\u001b[39;49m\u001b[43m_matvec\u001b[49m\u001b[43m(\u001b[49m\u001b[43mx\u001b[49m\u001b[43m)\u001b[49m\n\u001b[0;32m    260\u001b[0m \u001b[38;5;28;01mif\u001b[39;00m \u001b[38;5;28misinstance\u001b[39m(x, np\u001b[38;5;241m.\u001b[39mmatrix):\n\u001b[0;32m    261\u001b[0m     y \u001b[38;5;241m=\u001b[39m asmatrix(y)\n",
      "File \u001b[1;32m~\\miniconda3\\envs\\main\\lib\\site-packages\\scipy\\sparse\\linalg\\_interface.py:617\u001b[0m, in \u001b[0;36m_CustomLinearOperator._matvec\u001b[1;34m(self, x)\u001b[0m\n\u001b[0;32m    616\u001b[0m \u001b[38;5;28;01mdef\u001b[39;00m\u001b[38;5;250m \u001b[39m\u001b[38;5;21m_matvec\u001b[39m(\u001b[38;5;28mself\u001b[39m, x):\n\u001b[1;32m--> 617\u001b[0m     \u001b[38;5;28;01mreturn\u001b[39;00m \u001b[38;5;28;43mself\u001b[39;49m\u001b[38;5;241;43m.\u001b[39;49m\u001b[43m__matvec_impl\u001b[49m\u001b[43m(\u001b[49m\u001b[43mx\u001b[49m\u001b[43m)\u001b[49m\n",
      "File \u001b[1;32m~\\Projects\\find_similar_music_recommendations\\ease_recommender.py:26\u001b[0m, in \u001b[0;36mcalculate_ease_for_item_cg.<locals>.matvec_operator\u001b[1;34m(v)\u001b[0m\n\u001b[0;32m     24\u001b[0m \u001b[38;5;28;01mdef\u001b[39;00m\u001b[38;5;250m \u001b[39m\u001b[38;5;21mmatvec_operator\u001b[39m(v):\n\u001b[0;32m     25\u001b[0m     \u001b[38;5;66;03m# This is calculated as (X.T @ (X @ v)) + (λ * v)\u001b[39;00m\n\u001b[1;32m---> 26\u001b[0m     \u001b[38;5;28;01mreturn\u001b[39;00m X\u001b[38;5;241m.\u001b[39mT \u001b[38;5;241m@\u001b[39m (\u001b[43mX\u001b[49m\u001b[43m \u001b[49m\u001b[38;5;241;43m@\u001b[39;49m\u001b[43m \u001b[49m\u001b[43mv\u001b[49m) \u001b[38;5;241m+\u001b[39m lambda_ \u001b[38;5;241m*\u001b[39m v\n",
      "File \u001b[1;32m~\\miniconda3\\envs\\main\\lib\\site-packages\\scipy\\sparse\\_base.py:732\u001b[0m, in \u001b[0;36m_spbase.__matmul__\u001b[1;34m(self, other)\u001b[0m\n\u001b[0;32m    729\u001b[0m \u001b[38;5;28;01mif\u001b[39;00m isscalarlike(other):\n\u001b[0;32m    730\u001b[0m     \u001b[38;5;28;01mraise\u001b[39;00m \u001b[38;5;167;01mValueError\u001b[39;00m(\u001b[38;5;124m\"\u001b[39m\u001b[38;5;124mScalar operands are not allowed, \u001b[39m\u001b[38;5;124m\"\u001b[39m\n\u001b[0;32m    731\u001b[0m                      \u001b[38;5;124m\"\u001b[39m\u001b[38;5;124muse \u001b[39m\u001b[38;5;124m'\u001b[39m\u001b[38;5;124m*\u001b[39m\u001b[38;5;124m'\u001b[39m\u001b[38;5;124m instead\u001b[39m\u001b[38;5;124m\"\u001b[39m)\n\u001b[1;32m--> 732\u001b[0m \u001b[38;5;28;01mreturn\u001b[39;00m \u001b[38;5;28;43mself\u001b[39;49m\u001b[38;5;241;43m.\u001b[39;49m\u001b[43m_matmul_dispatch\u001b[49m\u001b[43m(\u001b[49m\u001b[43mother\u001b[49m\u001b[43m)\u001b[49m\n",
      "File \u001b[1;32m~\\miniconda3\\envs\\main\\lib\\site-packages\\scipy\\sparse\\_base.py:617\u001b[0m, in \u001b[0;36m_spbase._matmul_dispatch\u001b[1;34m(self, other)\u001b[0m\n\u001b[0;32m    614\u001b[0m \u001b[38;5;28;01mif\u001b[39;00m other\u001b[38;5;241m.\u001b[39m\u001b[38;5;18m__class__\u001b[39m \u001b[38;5;129;01mis\u001b[39;00m np\u001b[38;5;241m.\u001b[39mndarray:\n\u001b[0;32m    615\u001b[0m     \u001b[38;5;66;03m# Fast path for the most common case\u001b[39;00m\n\u001b[0;32m    616\u001b[0m     \u001b[38;5;28;01mif\u001b[39;00m other\u001b[38;5;241m.\u001b[39mshape \u001b[38;5;241m==\u001b[39m (N,):\n\u001b[1;32m--> 617\u001b[0m         \u001b[38;5;28;01mreturn\u001b[39;00m \u001b[38;5;28;43mself\u001b[39;49m\u001b[38;5;241;43m.\u001b[39;49m\u001b[43m_matmul_vector\u001b[49m\u001b[43m(\u001b[49m\u001b[43mother\u001b[49m\u001b[43m)\u001b[49m\n\u001b[0;32m    618\u001b[0m     \u001b[38;5;28;01melif\u001b[39;00m other\u001b[38;5;241m.\u001b[39mshape \u001b[38;5;241m==\u001b[39m (N, \u001b[38;5;241m1\u001b[39m):\n\u001b[0;32m    619\u001b[0m         result \u001b[38;5;241m=\u001b[39m \u001b[38;5;28mself\u001b[39m\u001b[38;5;241m.\u001b[39m_matmul_vector(other\u001b[38;5;241m.\u001b[39mravel())\n",
      "File \u001b[1;32m~\\miniconda3\\envs\\main\\lib\\site-packages\\scipy\\sparse\\_compressed.py:526\u001b[0m, in \u001b[0;36m_cs_matrix._matmul_vector\u001b[1;34m(self, other)\u001b[0m\n\u001b[0;32m    524\u001b[0m \u001b[38;5;66;03m# csr_matvec or csc_matvec\u001b[39;00m\n\u001b[0;32m    525\u001b[0m fn \u001b[38;5;241m=\u001b[39m \u001b[38;5;28mgetattr\u001b[39m(_sparsetools, \u001b[38;5;28mself\u001b[39m\u001b[38;5;241m.\u001b[39mformat \u001b[38;5;241m+\u001b[39m \u001b[38;5;124m'\u001b[39m\u001b[38;5;124m_matvec\u001b[39m\u001b[38;5;124m'\u001b[39m)\n\u001b[1;32m--> 526\u001b[0m \u001b[43mfn\u001b[49m\u001b[43m(\u001b[49m\u001b[43mM\u001b[49m\u001b[43m,\u001b[49m\u001b[43m \u001b[49m\u001b[43mN\u001b[49m\u001b[43m,\u001b[49m\u001b[43m \u001b[49m\u001b[38;5;28;43mself\u001b[39;49m\u001b[38;5;241;43m.\u001b[39;49m\u001b[43mindptr\u001b[49m\u001b[43m,\u001b[49m\u001b[43m \u001b[49m\u001b[38;5;28;43mself\u001b[39;49m\u001b[38;5;241;43m.\u001b[39;49m\u001b[43mindices\u001b[49m\u001b[43m,\u001b[49m\u001b[43m \u001b[49m\u001b[38;5;28;43mself\u001b[39;49m\u001b[38;5;241;43m.\u001b[39;49m\u001b[43mdata\u001b[49m\u001b[43m,\u001b[49m\u001b[43m \u001b[49m\u001b[43mother\u001b[49m\u001b[43m,\u001b[49m\u001b[43m \u001b[49m\u001b[43mresult\u001b[49m\u001b[43m)\u001b[49m\n\u001b[0;32m    528\u001b[0m \u001b[38;5;28;01mreturn\u001b[39;00m result[\u001b[38;5;241m0\u001b[39m] \u001b[38;5;28;01mif\u001b[39;00m \u001b[38;5;28mself\u001b[39m\u001b[38;5;241m.\u001b[39mndim \u001b[38;5;241m==\u001b[39m \u001b[38;5;241m1\u001b[39m \u001b[38;5;28;01melse\u001b[39;00m result\n",
      "\u001b[1;31mKeyboardInterrupt\u001b[0m: "
     ]
    }
   ],
   "source": [
    "lambda_ = optimize_lambda_using_a_to_b_matching(artist_mat, a, b)"
   ]
  },
  {
   "cell_type": "code",
   "execution_count": 144,
   "id": "0041d818",
   "metadata": {},
   "outputs": [
    {
     "name": "stdout",
     "output_type": "stream",
     "text": [
      "temp: 1\n",
      "error: 7.0\n"
     ]
    },
    {
     "data": {
      "text/plain": [
       "7.0"
      ]
     },
     "execution_count": 144,
     "metadata": {},
     "output_type": "execute_result"
    }
   ],
   "source": [
    "a_to_b_error_metric_npmi(artist_mat, a, b, temp=1)"
   ]
  },
  {
   "cell_type": "code",
   "execution_count": 147,
   "id": "8bb55422",
   "metadata": {},
   "outputs": [],
   "source": [
    "top_k = 20"
   ]
  },
  {
   "cell_type": "code",
   "execution_count": 159,
   "id": "562ead3a",
   "metadata": {},
   "outputs": [
    {
     "data": {
      "text/plain": [
       "['Iron & Wine (spotify:artist:4M5nCE77Qaxayuhp3fVn4V)',\n",
       " 'The Shins (spotify:artist:4LG4Bs1Gadht7TCrMytQUO)',\n",
       " 'Sufjan Stevens (spotify:artist:4MXUO7sVCaFgFjoTI5ox5c)',\n",
       " 'The Tallest Man On Earth (spotify:artist:2BpAc5eK7Rz5GAwSp9UYXa)',\n",
       " 'Bon Iver (spotify:artist:4LEiUm1SRbFMgfqnQTwUbQ)',\n",
       " 'The Head and the Heart (spotify:artist:0n94vC3S9c3mb2HyNAOcjg)',\n",
       " 'The Middle East (spotify:artist:6imbHAlhHrFwtsOgqpeBK2)',\n",
       " 'Gregory Alan Isakov (spotify:artist:5sXaGoRLSpd7VeyZrLkKwt)',\n",
       " 'Radical Face (spotify:artist:5EM6xJN2QNk0cL7EEm9HR9)',\n",
       " 'Beirut (spotify:artist:6pmxr66tMAePxzOLfjGNcX)',\n",
       " 'José González (spotify:artist:6xrCU6zdcSTsG2hLrojpmI)',\n",
       " 'Grizzly Bear (spotify:artist:2Jv5eshHtLycR6R8KQCdc4)',\n",
       " 'Andrew Bird (spotify:artist:4uSftVc3FPWe6RJuMZNEe9)',\n",
       " 'The Avett Brothers (spotify:artist:196lKsA13K3keVXMDFK66q)',\n",
       " 'Local Natives (spotify:artist:75dQReiBOHN37fQgWQrIAJ)',\n",
       " 'Band of Horses (spotify:artist:0OdUWJ0sBjDrqHygGUXeCF)',\n",
       " 'Blind Pilot (spotify:artist:6qiGjRyN7TJ1GA2nXF68Hi)',\n",
       " 'Ben Howard (spotify:artist:5schNIzWdI9gJ1QRK8SBnc)',\n",
       " 'Father John Misty (spotify:artist:2kGBy2WHvF0VdZyqiVCkDT)',\n",
       " 'Sea Wolf (spotify:artist:3ZllGjNdP5pS8UFnT5Jj2x)']"
      ]
     },
     "execution_count": 159,
     "metadata": {},
     "output_type": "execute_result"
    }
   ],
   "source": [
    "# using normalized pointwise mutual information\n",
    "\n",
    "similarity_scores = npmi_batch(artist_mat, a, 1)\n",
    "\n",
    "top_k_matches = [idx2cat[idx] for idx in np.argsort(-similarity_scores)[:top_k].tolist()]\n",
    "\n",
    "top_k_matches"
   ]
  },
  {
   "cell_type": "code",
   "execution_count": 160,
   "id": "c35b1944",
   "metadata": {},
   "outputs": [
    {
     "data": {
      "text/plain": [
       "['The Shins (spotify:artist:4LG4Bs1Gadht7TCrMytQUO)',\n",
       " 'Sufjan Stevens (spotify:artist:4MXUO7sVCaFgFjoTI5ox5c)',\n",
       " 'Iron & Wine (spotify:artist:4M5nCE77Qaxayuhp3fVn4V)',\n",
       " 'Bon Iver (spotify:artist:4LEiUm1SRbFMgfqnQTwUbQ)',\n",
       " 'Grizzly Bear (spotify:artist:2Jv5eshHtLycR6R8KQCdc4)',\n",
       " 'The Tallest Man On Earth (spotify:artist:2BpAc5eK7Rz5GAwSp9UYXa)',\n",
       " 'The Head and the Heart (spotify:artist:0n94vC3S9c3mb2HyNAOcjg)',\n",
       " 'Beirut (spotify:artist:6pmxr66tMAePxzOLfjGNcX)',\n",
       " 'Local Natives (spotify:artist:75dQReiBOHN37fQgWQrIAJ)',\n",
       " 'Father John Misty (spotify:artist:2kGBy2WHvF0VdZyqiVCkDT)',\n",
       " 'Andrew Bird (spotify:artist:4uSftVc3FPWe6RJuMZNEe9)',\n",
       " 'Band of Horses (spotify:artist:0OdUWJ0sBjDrqHygGUXeCF)',\n",
       " 'Radical Face (spotify:artist:5EM6xJN2QNk0cL7EEm9HR9)',\n",
       " 'The Avett Brothers (spotify:artist:196lKsA13K3keVXMDFK66q)',\n",
       " 'First Aid Kit (spotify:artist:21egYD1eInY6bGFcniCRT1)',\n",
       " 'Arcade Fire (spotify:artist:3kjuyTCjPG1WMFCiyc5IuB)',\n",
       " 'Neutral Milk Hotel (spotify:artist:2ooIqOf4X2uz4mMptXCtie)',\n",
       " 'José González (spotify:artist:6xrCU6zdcSTsG2hLrojpmI)',\n",
       " 'Lord Huron (spotify:artist:6ltzsmQQbmdoHHbLZ4ZN25)',\n",
       " 'The Middle East (spotify:artist:6imbHAlhHrFwtsOgqpeBK2)']"
      ]
     },
     "execution_count": 160,
     "metadata": {},
     "output_type": "execute_result"
    }
   ],
   "source": [
    "# using EASE\n",
    "\n",
    "similarity_scores = calculate_ease_for_item_cg(artist_mat, a, lambda_)\n",
    "top_k_matches = [idx2cat[idx] for idx in np.argsort(-similarity_scores)[:top_k].tolist()]\n",
    "\n",
    "top_k_matches"
   ]
  }
 ],
 "metadata": {
  "kernelspec": {
   "display_name": "Python 3 (ipykernel)",
   "language": "python",
   "name": "python3"
  },
  "language_info": {
   "codemirror_mode": {
    "name": "ipython",
    "version": 3
   },
   "file_extension": ".py",
   "mimetype": "text/x-python",
   "name": "python",
   "nbconvert_exporter": "python",
   "pygments_lexer": "ipython3",
   "version": "3.10.16"
  }
 },
 "nbformat": 4,
 "nbformat_minor": 5
}
