{
 "cells": [
  {
   "cell_type": "code",
   "execution_count": 1,
   "id": "dd7b92d1",
   "metadata": {},
   "outputs": [],
   "source": [
    "%load_ext autoreload\n",
    "%autoreload 2"
   ]
  },
  {
   "cell_type": "code",
   "execution_count": 2,
   "id": "eeacb8f8",
   "metadata": {},
   "outputs": [],
   "source": [
    "import os\n",
    "os.chdir(\"../\")"
   ]
  },
  {
   "cell_type": "code",
   "execution_count": 3,
   "id": "df162b02",
   "metadata": {},
   "outputs": [],
   "source": [
    "from ease_recommender import *\n",
    "from npmi_recommender import *\n",
    "\n",
    "import pickle as p"
   ]
  },
  {
   "cell_type": "code",
   "execution_count": 4,
   "id": "da9f3309",
   "metadata": {},
   "outputs": [],
   "source": [
    "def create_mat(row, col, bool_to_int=True):\n",
    "    # bool_to_int won't count duplicates in the same row, creates a different weighting basically\n",
    "    if bool_to_int:\n",
    "        data = np.ones_like(row, dtype=bool)\n",
    "        return csr_matrix((data, (row, col))).astype(np.int64)\n",
    "    else:\n",
    "        data = np.ones_like(row, dtype=np.int64)\n",
    "        return csr_matrix((data, (row, col)))\n",
    "\n",
    "def check_if_all_terms_in_str(q, terms):\n",
    "    for term in terms:\n",
    "        if term not in q:\n",
    "            return False\n",
    "\n",
    "    return True\n",
    "\n",
    "def get_cat2idx(category_type, D):\n",
    "    if category_type == \"track\":\n",
    "        return D[\"track2idx\"]\n",
    "    elif category_type == \"album\":\n",
    "        return D[\"album2idx\"]\n",
    "    elif category_type == \"artist\":\n",
    "        return D[\"artist2idx\"]\n",
    "    else:\n",
    "        raise NotImplementedError\n",
    "\n",
    "def find_match_using_terms(terms, cat2idx):\n",
    "    matches = []\n",
    "    for name in cat2idx.keys():\n",
    "        if check_if_all_terms_in_str(name, terms):\n",
    "            matches.append(name)\n",
    "\n",
    "    if len(matches) > 1:\n",
    "        raise Exception(\"Multiple matches found, filter down to a single match\", matches)\n",
    "\n",
    "    return matches[0]"
   ]
  },
  {
   "cell_type": "code",
   "execution_count": 5,
   "id": "060e66e1",
   "metadata": {},
   "outputs": [
    {
     "name": "stdout",
     "output_type": "stream",
     "text": [
      "loading cache data...\n",
      "building csr matrices...\n",
      "done\n"
     ]
    }
   ],
   "source": [
    "print(\"loading cache data...\")\n",
    "D = p.load(open(\"cached_data/spotify_preprocessed.p\", \"rb\"))\n",
    "\n",
    "print(\"building csr matrices...\")\n",
    "\n",
    "# TODO: finish implementing track and album level recommendations\n",
    "\n",
    "# track_mat = create_mat(D[\"playlist_indices\"], D[\"track_indices\"])\n",
    "# album_mat = create_mat(D[\"playlist_indices\"], D[\"album_indices\"])\n",
    "artist_mat = create_mat(D[\"playlist_indices\"], D[\"artist_indices\"])\n",
    "\n",
    "print(\"done\")"
   ]
  },
  {
   "cell_type": "code",
   "execution_count": 6,
   "id": "9891b3ec",
   "metadata": {},
   "outputs": [],
   "source": [
    "cat2idx = get_cat2idx(\"artist\", D)\n",
    "idx2cat = {v:k for k, v in cat2idx.items()}"
   ]
  },
  {
   "cell_type": "code",
   "execution_count": 7,
   "id": "7bb1bc0b",
   "metadata": {},
   "outputs": [],
   "source": [
    "# use two items that you believe are similar to optimize the value of lambda_\n",
    "\n",
    "# a = cat2idx[find_match_using_terms([\"sgeir\", \"7xUZ4069zcyBM4Bn10NQ1c\"], cat2idx)]\n",
    "a = cat2idx[find_match_using_terms([\"Fleet Foxes\"], cat2idx)]\n",
    "\n",
    "# b = cat2idx[find_match_using_terms([\"Fleet Foxes\"], cat2idx)]\n",
    "b = cat2idx[find_match_using_terms([\"Bon Iver\", \"4LEiUm1SRbFMgfqnQTwUbQ\"], cat2idx)]\n",
    "# b = cat2idx[find_match_using_terms([\"SOHN\"], cat2idx)]"
   ]
  },
  {
   "cell_type": "code",
   "execution_count": 10,
   "id": "51ef8a65",
   "metadata": {},
   "outputs": [
    {
     "name": "stdout",
     "output_type": "stream",
     "text": [
      "lambda_: 1000000\n",
      "error: 9.5\n",
      "lambda_: 100000.0\n",
      "error: 4.5\n",
      "lambda_: 10000.0\n",
      "error: 3.0\n",
      "lambda_: 1000.0\n",
      "error: 11.5\n"
     ]
    }
   ],
   "source": [
    "lambda_ = optimize_lambda_using_a_to_b_matching(artist_mat, a, b)"
   ]
  },
  {
   "cell_type": "code",
   "execution_count": 34,
   "id": "f04a9c53",
   "metadata": {},
   "outputs": [
    {
     "name": "stdout",
     "output_type": "stream",
     "text": [
      "lambda_: 10000\n",
      "error: 3.0\n"
     ]
    },
    {
     "data": {
      "text/plain": [
       "3.0"
      ]
     },
     "execution_count": 34,
     "metadata": {},
     "output_type": "execute_result"
    }
   ],
   "source": [
    "# check final error for EASE\n",
    "a_to_b_error_metric(artist_mat, a, b, lambda_)"
   ]
  },
  {
   "cell_type": "code",
   "execution_count": 35,
   "id": "7ae3a77e",
   "metadata": {},
   "outputs": [],
   "source": [
    "temp = 1"
   ]
  },
  {
   "cell_type": "code",
   "execution_count": 36,
   "id": "0041d818",
   "metadata": {},
   "outputs": [
    {
     "name": "stdout",
     "output_type": "stream",
     "text": [
      "temp: 1\n",
      "error: 6.0\n"
     ]
    },
    {
     "data": {
      "text/plain": [
       "6.0"
      ]
     },
     "execution_count": 36,
     "metadata": {},
     "output_type": "execute_result"
    }
   ],
   "source": [
    "# check error for NPMI in comparison\n",
    "a_to_b_error_metric_npmi(artist_mat, a, b, temp)"
   ]
  },
  {
   "cell_type": "code",
   "execution_count": 38,
   "id": "37f819b0",
   "metadata": {},
   "outputs": [],
   "source": [
    "top_k = 20"
   ]
  },
  {
   "cell_type": "code",
   "execution_count": 37,
   "id": "daa1a9d8",
   "metadata": {},
   "outputs": [
    {
     "data": {
      "text/plain": [
       "['Iron & Wine (spotify:artist:4M5nCE77Qaxayuhp3fVn4V)',\n",
       " 'The Shins (spotify:artist:4LG4Bs1Gadht7TCrMytQUO)',\n",
       " 'Sufjan Stevens (spotify:artist:4MXUO7sVCaFgFjoTI5ox5c)',\n",
       " 'The Tallest Man On Earth (spotify:artist:2BpAc5eK7Rz5GAwSp9UYXa)',\n",
       " 'Bon Iver (spotify:artist:4LEiUm1SRbFMgfqnQTwUbQ)',\n",
       " 'The Head and the Heart (spotify:artist:0n94vC3S9c3mb2HyNAOcjg)',\n",
       " 'The Middle East (spotify:artist:6imbHAlhHrFwtsOgqpeBK2)',\n",
       " 'Gregory Alan Isakov (spotify:artist:5sXaGoRLSpd7VeyZrLkKwt)',\n",
       " 'Radical Face (spotify:artist:5EM6xJN2QNk0cL7EEm9HR9)',\n",
       " 'Beirut (spotify:artist:6pmxr66tMAePxzOLfjGNcX)',\n",
       " 'José González (spotify:artist:6xrCU6zdcSTsG2hLrojpmI)',\n",
       " 'Grizzly Bear (spotify:artist:2Jv5eshHtLycR6R8KQCdc4)',\n",
       " 'Andrew Bird (spotify:artist:4uSftVc3FPWe6RJuMZNEe9)',\n",
       " 'The Avett Brothers (spotify:artist:196lKsA13K3keVXMDFK66q)',\n",
       " 'Local Natives (spotify:artist:75dQReiBOHN37fQgWQrIAJ)',\n",
       " 'Band of Horses (spotify:artist:0OdUWJ0sBjDrqHygGUXeCF)',\n",
       " 'Blind Pilot (spotify:artist:6qiGjRyN7TJ1GA2nXF68Hi)',\n",
       " 'Ben Howard (spotify:artist:5schNIzWdI9gJ1QRK8SBnc)',\n",
       " 'Father John Misty (spotify:artist:2kGBy2WHvF0VdZyqiVCkDT)',\n",
       " 'Sea Wolf (spotify:artist:3ZllGjNdP5pS8UFnT5Jj2x)']"
      ]
     },
     "execution_count": 37,
     "metadata": {},
     "output_type": "execute_result"
    }
   ],
   "source": [
    "# using normalized pointwise mutual information\n",
    "\n",
    "similarity_scores = npmi_batch(artist_mat, a, temp)\n",
    "\n",
    "top_k_matches = [idx2cat[idx] for idx in np.argsort(-similarity_scores)[:top_k].tolist()]\n",
    "\n",
    "top_k_matches"
   ]
  },
  {
   "cell_type": "code",
   "execution_count": 39,
   "id": "c35b1944",
   "metadata": {},
   "outputs": [
    {
     "data": {
      "text/plain": [
       "['The Shins (spotify:artist:4LG4Bs1Gadht7TCrMytQUO)',\n",
       " 'Sufjan Stevens (spotify:artist:4MXUO7sVCaFgFjoTI5ox5c)',\n",
       " 'Iron & Wine (spotify:artist:4M5nCE77Qaxayuhp3fVn4V)',\n",
       " 'Bon Iver (spotify:artist:4LEiUm1SRbFMgfqnQTwUbQ)',\n",
       " 'Grizzly Bear (spotify:artist:2Jv5eshHtLycR6R8KQCdc4)',\n",
       " 'The Tallest Man On Earth (spotify:artist:2BpAc5eK7Rz5GAwSp9UYXa)',\n",
       " 'The Head and the Heart (spotify:artist:0n94vC3S9c3mb2HyNAOcjg)',\n",
       " 'Beirut (spotify:artist:6pmxr66tMAePxzOLfjGNcX)',\n",
       " 'Local Natives (spotify:artist:75dQReiBOHN37fQgWQrIAJ)',\n",
       " 'Father John Misty (spotify:artist:2kGBy2WHvF0VdZyqiVCkDT)',\n",
       " 'Andrew Bird (spotify:artist:4uSftVc3FPWe6RJuMZNEe9)',\n",
       " 'Band of Horses (spotify:artist:0OdUWJ0sBjDrqHygGUXeCF)',\n",
       " 'Radical Face (spotify:artist:5EM6xJN2QNk0cL7EEm9HR9)',\n",
       " 'The Avett Brothers (spotify:artist:196lKsA13K3keVXMDFK66q)',\n",
       " 'First Aid Kit (spotify:artist:21egYD1eInY6bGFcniCRT1)',\n",
       " 'Arcade Fire (spotify:artist:3kjuyTCjPG1WMFCiyc5IuB)',\n",
       " 'Neutral Milk Hotel (spotify:artist:2ooIqOf4X2uz4mMptXCtie)',\n",
       " 'José González (spotify:artist:6xrCU6zdcSTsG2hLrojpmI)',\n",
       " 'Lord Huron (spotify:artist:6ltzsmQQbmdoHHbLZ4ZN25)',\n",
       " 'The Middle East (spotify:artist:6imbHAlhHrFwtsOgqpeBK2)']"
      ]
     },
     "execution_count": 39,
     "metadata": {},
     "output_type": "execute_result"
    }
   ],
   "source": [
    "# using EASE\n",
    "\n",
    "similarity_scores = calculate_ease_for_item_cg(artist_mat, a, lambda_)\n",
    "top_k_matches = [idx2cat[idx] for idx in np.argsort(-similarity_scores)[:top_k].tolist()]\n",
    "\n",
    "top_k_matches"
   ]
  }
 ],
 "metadata": {
  "kernelspec": {
   "display_name": "Python 3 (ipykernel)",
   "language": "python",
   "name": "python3"
  },
  "language_info": {
   "codemirror_mode": {
    "name": "ipython",
    "version": 3
   },
   "file_extension": ".py",
   "mimetype": "text/x-python",
   "name": "python",
   "nbconvert_exporter": "python",
   "pygments_lexer": "ipython3",
   "version": "3.10.16"
  }
 },
 "nbformat": 4,
 "nbformat_minor": 5
}
