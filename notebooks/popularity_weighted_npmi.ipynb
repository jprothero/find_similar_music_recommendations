{
 "cells": [
  {
   "cell_type": "code",
   "execution_count": 1,
   "id": "dd7b92d1",
   "metadata": {},
   "outputs": [],
   "source": [
    "%load_ext autoreload\n",
    "%autoreload 2"
   ]
  },
  {
   "cell_type": "code",
   "execution_count": 2,
   "id": "eeacb8f8",
   "metadata": {},
   "outputs": [],
   "source": [
    "import os\n",
    "os.chdir(\"../\")"
   ]
  },
  {
   "cell_type": "code",
   "execution_count": 3,
   "id": "df162b02",
   "metadata": {},
   "outputs": [],
   "source": [
    "from ease_recommender import *\n",
    "from npmi_recommender import *\n",
    "\n",
    "import pickle as p"
   ]
  },
  {
   "cell_type": "code",
   "execution_count": 4,
   "id": "da9f3309",
   "metadata": {},
   "outputs": [],
   "source": [
    "def create_mat(row, col, bool_to_int=True):\n",
    "    # bool_to_int won't count duplicates in the same row, creates a different weighting basically\n",
    "    if bool_to_int:\n",
    "        data = np.ones_like(row, dtype=bool)\n",
    "        return csr_matrix((data, (row, col))).astype(np.int64)\n",
    "    else:\n",
    "        data = np.ones_like(row, dtype=np.int64)\n",
    "        return csr_matrix((data, (row, col)))\n",
    "\n",
    "def check_if_all_terms_in_str(q, terms):\n",
    "    for term in terms:\n",
    "        if term not in q:\n",
    "            return False\n",
    "\n",
    "    return True\n",
    "\n",
    "def get_cat2idx(category_type, D):\n",
    "    if category_type == \"track\":\n",
    "        return D[\"track2idx\"]\n",
    "    elif category_type == \"album\":\n",
    "        return D[\"album2idx\"]\n",
    "    elif category_type == \"artist\":\n",
    "        return D[\"artist2idx\"]\n",
    "    else:\n",
    "        raise NotImplementedError\n",
    "\n",
    "def find_match_using_terms(terms, cat2idx):\n",
    "    matches = []\n",
    "    for name in cat2idx.keys():\n",
    "        if check_if_all_terms_in_str(name, terms):\n",
    "            matches.append(name)\n",
    "\n",
    "    if len(matches) > 1:\n",
    "        raise Exception(\"Multiple matches found, filter down to a single match\", matches)\n",
    "\n",
    "    return matches[0]"
   ]
  },
  {
   "cell_type": "code",
   "execution_count": 5,
   "id": "060e66e1",
   "metadata": {},
   "outputs": [
    {
     "name": "stdout",
     "output_type": "stream",
     "text": [
      "loading cache data...\n",
      "building csr matrices...\n",
      "done\n"
     ]
    }
   ],
   "source": [
    "print(\"loading cache data...\")\n",
    "D = p.load(open(\"cached_data/spotify_preprocessed.p\", \"rb\"))\n",
    "\n",
    "print(\"building csr matrices...\")\n",
    "\n",
    "# TODO: finish implementing track and album level recommendations\n",
    "\n",
    "# track_mat = create_mat(D[\"playlist_indices\"], D[\"track_indices\"])\n",
    "# album_mat = create_mat(D[\"playlist_indices\"], D[\"album_indices\"])\n",
    "artist_mat = create_mat(D[\"playlist_indices\"], D[\"artist_indices\"])\n",
    "\n",
    "print(\"done\")"
   ]
  },
  {
   "cell_type": "code",
   "execution_count": 6,
   "id": "9891b3ec",
   "metadata": {},
   "outputs": [],
   "source": [
    "cat2idx = get_cat2idx(\"artist\", D)\n",
    "idx2cat = {v:k for k, v in cat2idx.items()}"
   ]
  },
  {
   "cell_type": "code",
   "execution_count": 19,
   "id": "7bb1bc0b",
   "metadata": {},
   "outputs": [],
   "source": [
    "# use two items that you believe are similar to optimize the value of lambda_\n",
    "\n",
    "# a = cat2idx[find_match_using_terms([\"sgeir\", \"7xUZ4069zcyBM4Bn10NQ1c\"], cat2idx)]\n",
    "a = cat2idx[find_match_using_terms([\"Fleet Foxes\"], cat2idx)]\n",
    "\n",
    "# b = cat2idx[find_match_using_terms([\"Fleet Foxes\"], cat2idx)]\n",
    "b = cat2idx[find_match_using_terms([\"Bon Iver\", \"4LEiUm1SRbFMgfqnQTwUbQ\"], cat2idx)]\n",
    "# b = cat2idx[find_match_using_terms([\"SOHN\"], cat2idx)]"
   ]
  },
  {
   "cell_type": "code",
   "execution_count": 20,
   "id": "9b88d01d",
   "metadata": {},
   "outputs": [
    {
     "name": "stdout",
     "output_type": "stream",
     "text": [
      "lambda_: 0.0\n",
      "error: 12.0\n",
      "lambda_: 1.0\n",
      "error: 15\n",
      "lambda_: -1.618034\n",
      "error: 63543\n",
      "lambda_: -0.618033974844\n",
      "error: 61721\n",
      "lambda_: 0.381966\n",
      "error: 11.381966\n",
      "lambda_: 0.19099110267712452\n",
      "error: 8.190991102677124\n",
      "lambda_: 0.19941405018599068\n",
      "error: 8.199414050185991\n",
      "lambda_: 0.18939210311958657\n",
      "error: 8.189392103119587\n",
      "lambda_: 0.11705075905941056\n",
      "error: 8.11705075905941\n",
      "lambda_: 0.07234134882452375\n",
      "error: 8.072341348824525\n",
      "lambda_: 0.04470941317941571\n",
      "error: 10.044709413179415\n",
      "lambda_: 0.08941882341430253\n",
      "error: 8.089418823414302\n",
      "lambda_: 0.061786888893904414\n",
      "error: 9.061786888893904\n",
      "lambda_: 0.0788643634836832\n",
      "error: 8.078864363483683\n",
      "lambda_: 0.0683099039826648\n",
      "error: 9.068309903982664\n",
      "lambda_: 0.07483291864182424\n",
      "error: 8.074832918641825\n",
      "lambda_: 0.07080147396405825\n",
      "error: 8.070801473964059\n",
      "lambda_: 0.06984977894454532\n",
      "error: 9.069849778944546\n",
      "lambda_: 0.07138965380501082\n",
      "error: 8.07138965380501\n",
      "lambda_: 0.07043795882423498\n",
      "error: 8.070437958824234\n",
      "lambda_: 0.07021329410830944\n",
      "error: 8.07021329410831\n",
      "lambda_: 0.07007444367526712\n",
      "error: 9.070074443675267\n",
      "lambda_: 0.07029910839119266\n",
      "error: 8.070299108391193\n",
      "lambda_: 0.070160257963802\n",
      "error: 9.070160257963803\n",
      "lambda_: 0.0702460722466852\n",
      "error: 8.070246072246686\n",
      "lambda_: 0.07019303610433651\n",
      "error: 9.070193036104337\n",
      "lambda_: 0.07022581424271228\n",
      "error: 8.070225814242713\n",
      "lambda_: 0.07020555623956391\n",
      "error: 9.070205556239564\n",
      "lambda_: 0.07021807637396675\n",
      "error: 8.070218076373967\n",
      "lambda_: 0.07021033850553618\n",
      "error: 9.070210338505536\n",
      "lambda_: 0.0702151207711935\n",
      "error: 8.070215120771193\n",
      "lambda_: 0.07021216516854055\n",
      "error: 9.07021216516854\n",
      "lambda_: 0.07021399183142461\n",
      "error: 8.070213991831425\n",
      "lambda_: 0.07021286289170167\n",
      "error: 8.070212862891701\n",
      "lambda_: 0.07021259638517671\n",
      "error: 8.070212596385177\n",
      "lambda_: 0.07021243167508306\n",
      "error: 8.070212431675083\n",
      "lambda_: 0.07021232987864505\n",
      "error: 8.070212329878645\n",
      "lambda_: 0.07021226696498527\n",
      "error: 9.070212266964985\n",
      "lambda_: 0.0702123687614233\n",
      "error: 8.070212368761423\n",
      "lambda_: 0.07021230584776608\n",
      "error: 8.070212305847766\n",
      "lambda_: 0.07021229099586583\n",
      "error: 8.070212290995865\n",
      "lambda_: 0.0702122818168865\n",
      "error: 8.070212281816886\n",
      "lambda_: 0.07021227614396519\n",
      "error: 8.070212276143966\n",
      "lambda_: 0.07021227263790694\n",
      "error: 9.070212272637907\n",
      "lambda_: 0.07021227831082825\n",
      "error: 8.070212278310828\n",
      "lambda_: 0.07021227480477014\n",
      "error: 8.07021227480477\n",
      "lambda_: 0.07021227375562848\n",
      "error: 8.070212273755628\n"
     ]
    }
   ],
   "source": [
    "lambda_ = optimize_lambda_using_a_to_b_matching_npmi(artist_mat, a, b)"
   ]
  },
  {
   "cell_type": "code",
   "execution_count": 21,
   "id": "37f819b0",
   "metadata": {},
   "outputs": [],
   "source": [
    "top_k = 20"
   ]
  },
  {
   "cell_type": "code",
   "execution_count": 22,
   "id": "1dcf7e7e",
   "metadata": {},
   "outputs": [
    {
     "data": {
      "text/plain": [
       "['Bon Iver (spotify:artist:4LEiUm1SRbFMgfqnQTwUbQ)',\n",
       " 'Iron & Wine (spotify:artist:4M5nCE77Qaxayuhp3fVn4V)',\n",
       " 'The Shins (spotify:artist:4LG4Bs1Gadht7TCrMytQUO)',\n",
       " 'The Head and the Heart (spotify:artist:0n94vC3S9c3mb2HyNAOcjg)',\n",
       " 'Sufjan Stevens (spotify:artist:4MXUO7sVCaFgFjoTI5ox5c)',\n",
       " 'The Tallest Man On Earth (spotify:artist:2BpAc5eK7Rz5GAwSp9UYXa)',\n",
       " 'José González (spotify:artist:6xrCU6zdcSTsG2hLrojpmI)',\n",
       " 'Gregory Alan Isakov (spotify:artist:5sXaGoRLSpd7VeyZrLkKwt)',\n",
       " 'Grizzly Bear (spotify:artist:2Jv5eshHtLycR6R8KQCdc4)',\n",
       " 'The Middle East (spotify:artist:6imbHAlhHrFwtsOgqpeBK2)',\n",
       " 'The Avett Brothers (spotify:artist:196lKsA13K3keVXMDFK66q)',\n",
       " 'Radical Face (spotify:artist:5EM6xJN2QNk0cL7EEm9HR9)',\n",
       " 'Band of Horses (spotify:artist:0OdUWJ0sBjDrqHygGUXeCF)',\n",
       " 'Beirut (spotify:artist:6pmxr66tMAePxzOLfjGNcX)',\n",
       " 'Ben Howard (spotify:artist:5schNIzWdI9gJ1QRK8SBnc)',\n",
       " 'Local Natives (spotify:artist:75dQReiBOHN37fQgWQrIAJ)',\n",
       " 'Andrew Bird (spotify:artist:4uSftVc3FPWe6RJuMZNEe9)',\n",
       " 'The Paper Kites (spotify:artist:79hrYiudVcFyyxyJW0ipTy)',\n",
       " 'Father John Misty (spotify:artist:2kGBy2WHvF0VdZyqiVCkDT)',\n",
       " 'Lord Huron (spotify:artist:6ltzsmQQbmdoHHbLZ4ZN25)']"
      ]
     },
     "execution_count": 22,
     "metadata": {},
     "output_type": "execute_result"
    }
   ],
   "source": [
    "# using normalized pointwise mutual information (popularity weighted)\n",
    "\n",
    "similarity_scores = npmi_batch_popularity_weighted(artist_mat, a, lambda_)\n",
    "\n",
    "top_k_matches = [idx2cat[idx] for idx in np.argsort(-similarity_scores)[:top_k].tolist()]\n",
    "\n",
    "top_k_matches"
   ]
  },
  {
   "cell_type": "code",
   "execution_count": 23,
   "id": "1b6585d7",
   "metadata": {},
   "outputs": [
    {
     "data": {
      "text/plain": [
       "['Ben Howard (spotify:artist:5schNIzWdI9gJ1QRK8SBnc)',\n",
       " 'Iron & Wine (spotify:artist:4M5nCE77Qaxayuhp3fVn4V)',\n",
       " 'The Head and the Heart (spotify:artist:0n94vC3S9c3mb2HyNAOcjg)',\n",
       " 'José González (spotify:artist:6xrCU6zdcSTsG2hLrojpmI)',\n",
       " 'The Lumineers (spotify:artist:16oZKvXb6WkQlVAjwo2Wbg)',\n",
       " 'City and Colour (spotify:artist:74gcBzlQza1bSfob90yRhR)',\n",
       " 'James Vincent McMorrow (spotify:artist:7FDlvgcodNfC0IBdWevl4u)',\n",
       " 'The Paper Kites (spotify:artist:79hrYiudVcFyyxyJW0ipTy)',\n",
       " 'Fleet Foxes (spotify:artist:4EVpmkEwrLYEg6jIsiPMIb)',\n",
       " 'Daughter (spotify:artist:46CitWgnWrvF9t70C2p1Me)',\n",
       " 'Gregory Alan Isakov (spotify:artist:5sXaGoRLSpd7VeyZrLkKwt)',\n",
       " 'Band of Horses (spotify:artist:0OdUWJ0sBjDrqHygGUXeCF)',\n",
       " 'Benjamin Francis Leftwich (spotify:artist:7D5oTJSXSHf51auG0106CQ)',\n",
       " 'The Middle East (spotify:artist:6imbHAlhHrFwtsOgqpeBK2)',\n",
       " 'Kodaline (spotify:artist:4BxCuXFJrSWGi1KHcVqaU4)',\n",
       " 'Angus & Julia Stone (spotify:artist:4tvKz56Tr39bkhcQUTO0Xr)',\n",
       " 'Sufjan Stevens (spotify:artist:4MXUO7sVCaFgFjoTI5ox5c)',\n",
       " 'Mumford & Sons (spotify:artist:3gd8FJtBJtkRxdfbTu19U2)',\n",
       " 'Bright Eyes (spotify:artist:5o206eFLx38glA2bb4zqIU)',\n",
       " 'The Cinematic Orchestra (spotify:artist:32ogthv0BdaSMPml02X9YB)']"
      ]
     },
     "execution_count": 23,
     "metadata": {},
     "output_type": "execute_result"
    }
   ],
   "source": [
    "# using normalized pointwise mutual information (popularity weighted)\n",
    "\n",
    "similarity_scores = npmi_batch_popularity_weighted(artist_mat, b, lambda_)\n",
    "\n",
    "top_k_matches = [idx2cat[idx] for idx in np.argsort(-similarity_scores)[:top_k].tolist()]\n",
    "\n",
    "top_k_matches"
   ]
  }
 ],
 "metadata": {
  "kernelspec": {
   "display_name": "Python 3 (ipykernel)",
   "language": "python",
   "name": "python3"
  },
  "language_info": {
   "codemirror_mode": {
    "name": "ipython",
    "version": 3
   },
   "file_extension": ".py",
   "mimetype": "text/x-python",
   "name": "python",
   "nbconvert_exporter": "python",
   "pygments_lexer": "ipython3",
   "version": "3.10.18"
  }
 },
 "nbformat": 4,
 "nbformat_minor": 5
}
