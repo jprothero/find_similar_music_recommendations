{
 "cells": [
  {
   "cell_type": "code",
   "execution_count": null,
   "id": "a7cf777c",
   "metadata": {},
   "outputs": [],
   "source": [
    "# first attempt, decided that the multiprocessing wasn't giving enough of a benefit so decided to keep it simpler and remove it"
   ]
  },
  {
   "cell_type": "code",
   "execution_count": null,
   "id": "7b63a424",
   "metadata": {},
   "outputs": [],
   "source": [
    "import os\n",
    "from pathlib import Path\n",
    "from glob import glob\n",
    "from tqdm.auto import tqdm\n",
    "import json\n",
    "from joblib import Parallel, parallel_backend, delayed\n",
    "import numpy as np\n",
    "\n",
    "path = Path(os.getenv(\"SPOTIFY_DATASET\"))\n",
    "\n",
    "slices = sorted(glob(str(path/\"data\"/\"*.json\")), key=lambda x: int(x.split(\"mpd.slice.\")[-1].split(\"-\")[0]))"
   ]
  },
  {
   "cell_type": "code",
   "execution_count": null,
   "id": "e94bc7f9",
   "metadata": {},
   "outputs": [],
   "source": [
    "def extract_distinct_items(path):\n",
    "    data = json.load(open(path, \"rb\"))\n",
    "    \n",
    "    tracks = set()\n",
    "    albums = set()\n",
    "    artists = set()\n",
    "    for playlist in data[\"playlists\"]:\n",
    "        for track_info in playlist[\"tracks\"]:\n",
    "            track = f\"{track_info['track_name']} ({track_info['track_uri']})\"\n",
    "            album = f\"{track_info['album_name']} ({track_info['album_uri']})\"\n",
    "            artist = f\"{track_info['artist_name']} ({track_info['artist_uri']})\"\n",
    "\n",
    "            tracks.add(track)\n",
    "            albums.add(album)\n",
    "            artists.add(artist)\n",
    "        \n",
    "    return tracks, albums, artists"
   ]
  },
  {
   "cell_type": "code",
   "execution_count": null,
   "id": "7368b71d",
   "metadata": {},
   "outputs": [],
   "source": [
    "def determine_categories(slices):\n",
    "    with parallel_backend(\"loky\"):\n",
    "        tracks = set()\n",
    "        albums = set()\n",
    "        artists = set()\n",
    "\n",
    "        for _tracks, _albums, _artists in tqdm(Parallel()(delayed(extract_distinct_items)(slc) for slc in tqdm(slices))):\n",
    "            tracks = tracks.union(_tracks)\n",
    "            albums = albums.union(_albums)\n",
    "            artists = artists.union(_artists)\n",
    "\n",
    "    return sorted(tracks), sorted(albums), sorted(artists)"
   ]
  },
  {
   "cell_type": "code",
   "execution_count": null,
   "id": "c85c1af5",
   "metadata": {},
   "outputs": [],
   "source": [
    "tracks, albums, artists = determine_categories(slices)\n",
    "\n",
    "assert len(tracks) >= len(albums)\n",
    "assert len(albums) >= len(artists)\n",
    "\n",
    "# assert len(tracks) == len(np.unique(tracks))\n",
    "# assert len(albums) == len(np.unique(albums))\n",
    "# assert len(artists) == len(np.unique(artists))\n",
    "\n",
    "len(tracks), len(albums), len(artists)"
   ]
  },
  {
   "cell_type": "code",
   "execution_count": null,
   "id": "0a87a418",
   "metadata": {},
   "outputs": [],
   "source": [
    "track2idx = {track: i for i, track in enumerate(tracks)}\n",
    "album2idx = {album: i for i, album in enumerate(albums)}\n",
    "artist2idx = {artist: i for i, artist in enumerate(artists)}"
   ]
  },
  {
   "cell_type": "code",
   "execution_count": null,
   "id": "6bcfcc3f",
   "metadata": {},
   "outputs": [],
   "source": [
    "def _get_rows_and_cols(path, playlist_idx, track2idx, album2idx, artist2idx):\n",
    "    data = json.load(open(path, \"rb\"))\n",
    "    \n",
    "    rows = []\n",
    "    track_cols = []\n",
    "    album_cols = []\n",
    "    artist_cols = []\n",
    "    for i, playlist in enumerate(data[\"playlists\"]):\n",
    "        for track_info in playlist[\"tracks\"]:\n",
    "            rows.append(playlist_idx + i)\n",
    "            \n",
    "            track = f\"{track_info['track_name']} ({track_info['track_uri']})\"\n",
    "            album = f\"{track_info['album_name']} ({track_info['album_uri']})\"\n",
    "            artist = f\"{track_info['artist_name']} ({track_info['artist_uri']})\"\n",
    "            \n",
    "            track_cols.append(track2idx[track])\n",
    "            album_cols.append(album2idx[album])\n",
    "            artist_cols.append(artist2idx[artist])\n",
    "        \n",
    "    return rows, track_cols, album_cols, artist_cols"
   ]
  },
  {
   "cell_type": "code",
   "execution_count": null,
   "id": "e2bf0ce6",
   "metadata": {},
   "outputs": [],
   "source": [
    "def get_aggregated_rows_and_cols(slices, track2idx, album2idx, artist2idx):\n",
    "    with parallel_backend(\"loky\"):\n",
    "        rows = []\n",
    "        track_cols = []\n",
    "        album_cols = []\n",
    "        artist_cols = []\n",
    "        for _rows, _track_cols, _album_cols, _artist_cols in \\\n",
    "                tqdm(Parallel()(delayed(_get_rows_and_cols)(slc, playlist_idx, track2idx, album2idx, artist2idx) \n",
    "                                for playlist_idx, slc in enumerate(tqdm(slices)))):\n",
    "            for row, track_col, album_col, artist_col in zip(_rows, _track_cols, _album_cols, _artist_cols):\n",
    "                rows.append(row)\n",
    "                track_cols.append(track_col)\n",
    "                album_cols.append(album_col)\n",
    "                artist_cols.append(artist_col)\n",
    "\n",
    "    return rows, track_cols, album_cols"
   ]
  },
  {
   "cell_type": "code",
   "execution_count": null,
   "id": "cc18e0e6",
   "metadata": {},
   "outputs": [],
   "source": [
    "rows, track_cols, album_cols, artist_cols = get_aggregated_rows_and_cols(slices, track2idx, album2idx, artist2idx)"
   ]
  }
 ],
 "metadata": {
  "kernelspec": {
   "display_name": "Python 3 (ipykernel)",
   "language": "python",
   "name": "python3"
  },
  "language_info": {
   "codemirror_mode": {
    "name": "ipython",
    "version": 3
   },
   "file_extension": ".py",
   "mimetype": "text/x-python",
   "name": "python",
   "nbconvert_exporter": "python",
   "pygments_lexer": "ipython3",
   "version": "3.10.18"
  }
 },
 "nbformat": 4,
 "nbformat_minor": 5
}
